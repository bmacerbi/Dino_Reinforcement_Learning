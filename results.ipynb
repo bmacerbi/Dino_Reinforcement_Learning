{
 "cells": [
  {
   "cell_type": "code",
   "execution_count": null,
   "metadata": {},
   "outputs": [],
   "source": [
    "import matplotlib\n",
    "import \n",
    "\n",
    "results = [3456.5, 3455.5, 2914.5, 3016.25, 3118.0, 2802.25, 3021.75, 3223.5, 3264.0, 3078.25, 3261.75, 3794.5, 3198.75, 3547.25, 3159.75, 3355.5, 3396.25, 3132.75, 3609.25, 3140.25, 2756.25, 3327.75, 3682.5, 3199.25, 3616.5, 2827.5, 3727.0, 3084.75, 3232.75, 3528.5]"
   ]
  }
 ],
 "metadata": {
  "language_info": {
   "name": "python"
  },
  "orig_nbformat": 4
 },
 "nbformat": 4,
 "nbformat_minor": 2
}
